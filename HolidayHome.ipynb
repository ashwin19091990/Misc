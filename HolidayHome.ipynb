{
 "cells": [
  {
   "cell_type": "code",
   "execution_count": 18,
   "metadata": {},
   "outputs": [
    {
     "name": "stdout",
     "output_type": "stream",
     "text": [
      "[]\n",
      "[]\n",
      "[]\n",
      "[]\n",
      "[]\n",
      "[]\n",
      "[]\n",
      "[]\n",
      "[]\n",
      "[]\n"
     ]
    }
   ],
   "source": [
    "from selenium import webdriver\n",
    "#from selenium.webdriver.support.select import Select\n",
    "from selenium.webdriver.support.ui import Select\n",
    "driver=webdriver.Chrome('/home/ashwin/Downloads/machine learning/chromedriver')\n",
    "driver.get(\"https://gess.ultimatix.net/gess/pages/GESS/Travel/Home/HolidayHomesInitationHome.jsf?null\")\n",
    "user=driver.find_element_by_id('USER')\n",
    "user.send_keys('593516')\n",
    "password=driver.find_element_by_id('PASSWORD')\n",
    "password.send_keys('Robotics@032018')\n",
    "login=driver.find_element_by_id('login_button')\n",
    "login.click()\n",
    "destination=driver.find_element_by_id('holidayHomesInitForm:_idJsp109:0:_idJsp110')\n",
    "destination.click()\n",
    "# roomtype=driver.find_element_by_id('holidayHomesInitForm')\n",
    "# all_options=roomtype.find_element_by_tag_name('option')\n",
    "# print(all_options)\n",
    "# for option in all_options:\n",
    "#     print(\"Value is: %s\" % option.get_attribute(\"value\"))\n",
    "#     option.click()\n",
    "#select = Select(driver.find_element_by_id('holidayHomesInitForm'))\n",
    "#select.select_by_index(1)\n",
    "#element = driver.find_element_by_id('holidayHomesInitForm')\n",
    "# print (element.get_property)\n",
    "# all_options = element.find_elements_by_link_text('Family1')\n",
    "# for each_option in all_options:\n",
    "#         print(each_option.get_attribute(\"value\"))\n",
    "element = driver.find_element_by_id('holidayHomesInitForm')\n",
    "print(element.find_elements_by_name('option'))\n",
    "print(element.find_elements_by_id('option'))\n",
    "print(driver.find_elements_by_tag_name('option'))\n",
    "print(element.find_elements_by_name('option'))\n",
    "print(element.find_elements_by_name('option'))\n",
    "print(element.find_elements_by_name('option'))\n",
    "print(element.find_elements_by_name('option'))\n",
    "print(element.find_elements_by_name('option'))\n",
    "print(element.find_elements_by_name('option'))\n",
    "\n",
    "all_options = element.find_elements_by_id('option')\n",
    "print(all_options)\n",
    "for option in all_options:\n",
    "    print(\"Value is: %s\" % option.get_attribute(\"value\"))\n",
    "    if option.get_attribute(\"value\") == \"Family1\":\n",
    "        print(\"Booking for Family room\")\n",
    "        option.click()\n",
    "        break\n",
    "calendar=element.find_element_by_class_name('entryFormWithBorder')\n",
    "all_date=calendar.find_elements_by_tag_name('span')\n",
    "# for date in all_date:\n",
    "#     print(\"Value is: %s\" % date.find_element_by_partial_link_text('onclick').get_attribute('onclick'))"
   ]
  },
  {
   "cell_type": "code",
   "execution_count": null,
   "metadata": {
    "collapsed": true
   },
   "outputs": [],
   "source": []
  }
 ],
 "metadata": {
  "kernelspec": {
   "display_name": "Python 3",
   "language": "python",
   "name": "python3"
  },
  "language_info": {
   "codemirror_mode": {
    "name": "ipython",
    "version": 3
   },
   "file_extension": ".py",
   "mimetype": "text/x-python",
   "name": "python",
   "nbconvert_exporter": "python",
   "pygments_lexer": "ipython3",
   "version": "3.6.1"
  }
 },
 "nbformat": 4,
 "nbformat_minor": 2
}
